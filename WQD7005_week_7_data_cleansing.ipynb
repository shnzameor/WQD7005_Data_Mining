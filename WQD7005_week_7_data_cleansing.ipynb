{
 "cells": [
  {
   "cell_type": "code",
   "execution_count": 22,
   "metadata": {},
   "outputs": [],
   "source": [
    "#importing libraries\n",
    "import numpy as np\n",
    "import matplotlib.pyplot as plt\n",
    "import pandas as pd\n",
    "\n",
    "#importing dataset\n",
    "dataset = pd.read_csv('DataHealthSector_All_v2.csv')"
   ]
  },
  {
   "cell_type": "code",
   "execution_count": 23,
   "metadata": {},
   "outputs": [
    {
     "data": {
      "text/html": [
       "<div>\n",
       "<style scoped>\n",
       "    .dataframe tbody tr th:only-of-type {\n",
       "        vertical-align: middle;\n",
       "    }\n",
       "\n",
       "    .dataframe tbody tr th {\n",
       "        vertical-align: top;\n",
       "    }\n",
       "\n",
       "    .dataframe thead th {\n",
       "        text-align: right;\n",
       "    }\n",
       "</style>\n",
       "<table border=\"1\" class=\"dataframe\">\n",
       "  <thead>\n",
       "    <tr style=\"text-align: right;\">\n",
       "      <th></th>\n",
       "      <th>Date</th>\n",
       "      <th>Adj Close</th>\n",
       "      <th>Adj Close.1</th>\n",
       "      <th>Adj Close.2</th>\n",
       "      <th>Adj Close.3</th>\n",
       "      <th>Adj Close.4</th>\n",
       "      <th>Close</th>\n",
       "      <th>Close.1</th>\n",
       "      <th>Close.2</th>\n",
       "      <th>Close.3</th>\n",
       "      <th>...</th>\n",
       "      <th>Open</th>\n",
       "      <th>Open.1</th>\n",
       "      <th>Open.2</th>\n",
       "      <th>Open.3</th>\n",
       "      <th>Open.4</th>\n",
       "      <th>Volume</th>\n",
       "      <th>Volume.1</th>\n",
       "      <th>Volume.2</th>\n",
       "      <th>Volume.3</th>\n",
       "      <th>Volume.4</th>\n",
       "    </tr>\n",
       "  </thead>\n",
       "  <tbody>\n",
       "    <tr>\n",
       "      <th>0</th>\n",
       "      <td>30/12/2019</td>\n",
       "      <td>86.432899</td>\n",
       "      <td>144.379349</td>\n",
       "      <td>90.284149</td>\n",
       "      <td>19.049999</td>\n",
       "      <td>12.120</td>\n",
       "      <td>86.800003</td>\n",
       "      <td>145.300003</td>\n",
       "      <td>91.029999</td>\n",
       "      <td>19.049999</td>\n",
       "      <td>...</td>\n",
       "      <td>87.519997</td>\n",
       "      <td>145.779999</td>\n",
       "      <td>91.529999</td>\n",
       "      <td>19.540001</td>\n",
       "      <td>12.41</td>\n",
       "      <td>2706100</td>\n",
       "      <td>2923300</td>\n",
       "      <td>3752800</td>\n",
       "      <td>1183300</td>\n",
       "      <td>106400</td>\n",
       "    </tr>\n",
       "    <tr>\n",
       "      <th>1</th>\n",
       "      <td>31/12/2019</td>\n",
       "      <td>86.492645</td>\n",
       "      <td>144.945725</td>\n",
       "      <td>90.204803</td>\n",
       "      <td>19.559999</td>\n",
       "      <td>12.575</td>\n",
       "      <td>86.860001</td>\n",
       "      <td>145.869995</td>\n",
       "      <td>90.949997</td>\n",
       "      <td>19.559999</td>\n",
       "      <td>...</td>\n",
       "      <td>86.500000</td>\n",
       "      <td>145.100006</td>\n",
       "      <td>90.919998</td>\n",
       "      <td>18.959999</td>\n",
       "      <td>12.14</td>\n",
       "      <td>3261100</td>\n",
       "      <td>4435000</td>\n",
       "      <td>4495000</td>\n",
       "      <td>1112400</td>\n",
       "      <td>241400</td>\n",
       "    </tr>\n",
       "    <tr>\n",
       "      <th>2</th>\n",
       "      <td>2/1/2020</td>\n",
       "      <td>86.582260</td>\n",
       "      <td>145.045090</td>\n",
       "      <td>91.285881</td>\n",
       "      <td>19.230000</td>\n",
       "      <td>12.150</td>\n",
       "      <td>86.949997</td>\n",
       "      <td>145.970001</td>\n",
       "      <td>92.040001</td>\n",
       "      <td>19.230000</td>\n",
       "      <td>...</td>\n",
       "      <td>86.059998</td>\n",
       "      <td>145.869995</td>\n",
       "      <td>91.080002</td>\n",
       "      <td>19.570000</td>\n",
       "      <td>12.56</td>\n",
       "      <td>4969000</td>\n",
       "      <td>5777000</td>\n",
       "      <td>7873500</td>\n",
       "      <td>1233600</td>\n",
       "      <td>142200</td>\n",
       "    </tr>\n",
       "    <tr>\n",
       "      <th>3</th>\n",
       "      <td>3/1/2020</td>\n",
       "      <td>85.526741</td>\n",
       "      <td>143.365799</td>\n",
       "      <td>90.502350</td>\n",
       "      <td>18.889999</td>\n",
       "      <td>12.040</td>\n",
       "      <td>85.889999</td>\n",
       "      <td>144.279999</td>\n",
       "      <td>91.250000</td>\n",
       "      <td>18.889999</td>\n",
       "      <td>...</td>\n",
       "      <td>85.750000</td>\n",
       "      <td>143.500000</td>\n",
       "      <td>90.680000</td>\n",
       "      <td>19.020000</td>\n",
       "      <td>12.20</td>\n",
       "      <td>4747000</td>\n",
       "      <td>5752400</td>\n",
       "      <td>5633300</td>\n",
       "      <td>1751000</td>\n",
       "      <td>103700</td>\n",
       "    </tr>\n",
       "    <tr>\n",
       "      <th>4</th>\n",
       "      <td>6/1/2020</td>\n",
       "      <td>85.974838</td>\n",
       "      <td>143.186951</td>\n",
       "      <td>90.889153</td>\n",
       "      <td>18.129999</td>\n",
       "      <td>12.190</td>\n",
       "      <td>86.339996</td>\n",
       "      <td>144.100006</td>\n",
       "      <td>91.639999</td>\n",
       "      <td>18.129999</td>\n",
       "      <td>...</td>\n",
       "      <td>85.620003</td>\n",
       "      <td>144.000000</td>\n",
       "      <td>91.230003</td>\n",
       "      <td>18.700001</td>\n",
       "      <td>12.13</td>\n",
       "      <td>5631700</td>\n",
       "      <td>7731300</td>\n",
       "      <td>7178400</td>\n",
       "      <td>1606500</td>\n",
       "      <td>89500</td>\n",
       "    </tr>\n",
       "  </tbody>\n",
       "</table>\n",
       "<p>5 rows × 31 columns</p>\n",
       "</div>"
      ],
      "text/plain": [
       "         Date  Adj Close  Adj Close.1  Adj Close.2  Adj Close.3  Adj Close.4  \\\n",
       "0  30/12/2019  86.432899   144.379349    90.284149    19.049999       12.120   \n",
       "1  31/12/2019  86.492645   144.945725    90.204803    19.559999       12.575   \n",
       "2    2/1/2020  86.582260   145.045090    91.285881    19.230000       12.150   \n",
       "3    3/1/2020  85.526741   143.365799    90.502350    18.889999       12.040   \n",
       "4    6/1/2020  85.974838   143.186951    90.889153    18.129999       12.190   \n",
       "\n",
       "       Close     Close.1    Close.2    Close.3  ...       Open      Open.1  \\\n",
       "0  86.800003  145.300003  91.029999  19.049999  ...  87.519997  145.779999   \n",
       "1  86.860001  145.869995  90.949997  19.559999  ...  86.500000  145.100006   \n",
       "2  86.949997  145.970001  92.040001  19.230000  ...  86.059998  145.869995   \n",
       "3  85.889999  144.279999  91.250000  18.889999  ...  85.750000  143.500000   \n",
       "4  86.339996  144.100006  91.639999  18.129999  ...  85.620003  144.000000   \n",
       "\n",
       "      Open.2     Open.3  Open.4   Volume  Volume.1  Volume.2  Volume.3  \\\n",
       "0  91.529999  19.540001   12.41  2706100   2923300   3752800   1183300   \n",
       "1  90.919998  18.959999   12.14  3261100   4435000   4495000   1112400   \n",
       "2  91.080002  19.570000   12.56  4969000   5777000   7873500   1233600   \n",
       "3  90.680000  19.020000   12.20  4747000   5752400   5633300   1751000   \n",
       "4  91.230003  18.700001   12.13  5631700   7731300   7178400   1606500   \n",
       "\n",
       "   Volume.4  \n",
       "0    106400  \n",
       "1    241400  \n",
       "2    142200  \n",
       "3    103700  \n",
       "4     89500  \n",
       "\n",
       "[5 rows x 31 columns]"
      ]
     },
     "execution_count": 23,
     "metadata": {},
     "output_type": "execute_result"
    }
   ],
   "source": [
    "#reading top 5 rows of the dataset\n",
    "dataset.head()"
   ]
  },
  {
   "cell_type": "code",
   "execution_count": 24,
   "metadata": {},
   "outputs": [
    {
     "name": "stdout",
     "output_type": "stream",
     "text": [
      "DataHealthSector_All dataset dimensions : (50, 31)\n",
      "<class 'pandas.core.frame.DataFrame'>\n"
     ]
    }
   ],
   "source": [
    "#dimension & type dataset\n",
    "print(\"DataHealthSector_All dataset dimensions : {}\".format(dataset.shape))\n",
    "print((type(dataset)))"
   ]
  },
  {
   "cell_type": "code",
   "execution_count": 16,
   "metadata": {},
   "outputs": [
    {
     "data": {
      "text/plain": [
       "Date           0\n",
       "Adj Close      0\n",
       "Adj Close.1    0\n",
       "Adj Close.2    0\n",
       "Adj Close.3    0\n",
       "Adj Close.4    0\n",
       "Close          0\n",
       "Close.1        0\n",
       "Close.2        0\n",
       "Close.3        0\n",
       "Close.4        0\n",
       "High           0\n",
       "High.1         0\n",
       "High.2         0\n",
       "High.3         0\n",
       "High.4         0\n",
       "Low            0\n",
       "Low.1          0\n",
       "Low.2          0\n",
       "Low.3          0\n",
       "Low.4          0\n",
       "Open           0\n",
       "Open.1         0\n",
       "Open.2         0\n",
       "Open.3         0\n",
       "Open.4         0\n",
       "Volume         0\n",
       "Volume.1       0\n",
       "Volume.2       0\n",
       "Volume.3       0\n",
       "Volume.4       0\n",
       "dtype: int64"
      ]
     },
     "execution_count": 16,
     "metadata": {},
     "output_type": "execute_result"
    }
   ],
   "source": [
    "#identify missing values\n",
    "dataset.isnull().sum()"
   ]
  },
  {
   "cell_type": "code",
   "execution_count": 25,
   "metadata": {},
   "outputs": [
    {
     "name": "stdout",
     "output_type": "stream",
     "text": [
      "       Adj Close  Adj Close.1  Adj Close.2  Adj Close.3  Adj Close.4  \\\n",
      "count  50.000000    50.000000    50.000000    50.000000    50.000000   \n",
      "mean   86.001901   145.672712    84.828423    21.615100    22.918000   \n",
      "std     3.918988     4.564974     4.221016     3.296717    11.532082   \n",
      "min    77.019997   131.800003    75.932709    17.780001    12.040000   \n",
      "25%    84.662498   143.770371    81.392601    19.046250    16.290000   \n",
      "50%    87.099998   146.669731    85.052376    20.585000    18.974999   \n",
      "75%    89.105000   148.873180    88.744375    23.115000    24.463750   \n",
      "max    91.860001   153.014282    91.285881    29.879999    60.200001   \n",
      "\n",
      "           Close     Close.1    Close.2    Close.3    Close.4  ...       Open  \\\n",
      "count  50.000000   50.000000  50.000000  50.000000  50.000000  ...  50.000000   \n",
      "mean   86.074800  146.369399  85.529200  21.615100  22.918000  ...  86.048600   \n",
      "std     3.918352    4.886530   4.255887   3.296717  11.532082  ...   4.005280   \n",
      "min    77.019997  131.800003  76.559998  17.780001  12.040000  ...  76.610001   \n",
      "25%    84.752499  144.372498  82.064997  19.046250  16.290000  ...  85.059999   \n",
      "50%    87.099998  147.604996  85.755001  20.585000  18.974999  ...  87.364998   \n",
      "75%    89.105000  149.822495  89.477501  23.115000  24.463750  ...  88.870003   \n",
      "max    91.860001  153.990005  92.040001  29.879999  60.200001  ...  91.809998   \n",
      "\n",
      "           Open.1     Open.2     Open.3     Open.4        Volume  \\\n",
      "count   50.000000  50.000000  50.000000  50.000000  5.000000e+01   \n",
      "mean   146.191199  85.585600  21.956880  23.536800  6.171294e+06   \n",
      "std      4.754246   4.338739   3.711365  13.581027  2.835728e+06   \n",
      "min    134.779999  76.680000  17.990000  12.130000  2.661900e+06   \n",
      "25%    144.224995  81.695000  19.292500  15.965000  4.232225e+06   \n",
      "50%    146.599998  85.954998  20.995000  18.934999  5.318900e+06   \n",
      "75%    149.442497  89.625002  22.462501  24.950000  7.448175e+06   \n",
      "max    154.250000  91.860001  35.880001  71.150002  1.667300e+07   \n",
      "\n",
      "           Volume.1      Volume.2      Volume.3      Volume.4  \n",
      "count  5.000000e+01  5.000000e+01  5.000000e+01  5.000000e+01  \n",
      "mean   8.174686e+06  1.195011e+07  1.080083e+07  7.717740e+05  \n",
      "std    3.453729e+06  5.031472e+06  1.660340e+07  1.182384e+06  \n",
      "min    2.923300e+06  3.752800e+06  1.041600e+06  3.650000e+04  \n",
      "25%    5.768150e+06  9.089475e+06  2.119075e+06  1.460500e+05  \n",
      "50%    7.283650e+06  1.047605e+07  4.533450e+06  3.069500e+05  \n",
      "75%    1.025242e+07  1.438258e+07  1.159345e+07  8.168750e+05  \n",
      "max    1.982550e+07  2.794860e+07  7.644450e+07  6.588600e+06  \n",
      "\n",
      "[8 rows x 30 columns]\n"
     ]
    }
   ],
   "source": [
    "#summary for each column \n",
    "print((dataset.describe()))"
   ]
  },
  {
   "cell_type": "code",
   "execution_count": null,
   "metadata": {},
   "outputs": [],
   "source": [
    "# Sample\n",
    "# Replace missing value mean value\n",
    "#dataset['column_name'].fillna(dataset['column_name'].mean(),inplace=True)"
   ]
  },
  {
   "cell_type": "code",
   "execution_count": null,
   "metadata": {},
   "outputs": [],
   "source": [
    "# to view the most frequently occuring value in respective column\n",
    "#dataset.groupby('column_name')['column_name'].count()"
   ]
  },
  {
   "cell_type": "code",
   "execution_count": null,
   "metadata": {},
   "outputs": [],
   "source": [
    "# to fill in missing value with 0\n",
    "#dataset=dataset.fillna(0)"
   ]
  },
  {
   "cell_type": "code",
   "execution_count": 26,
   "metadata": {},
   "outputs": [
    {
     "data": {
      "text/plain": [
       "(30, 30)"
      ]
     },
     "execution_count": 26,
     "metadata": {},
     "output_type": "execute_result"
    }
   ],
   "source": [
    "# Finding out the correlation between the features\n",
    "corr = dataset.corr()\n",
    "corr.shape"
   ]
  },
  {
   "cell_type": "code",
   "execution_count": 27,
   "metadata": {},
   "outputs": [],
   "source": [
    "import seaborn as sns\n",
    "from sklearn import metrics\n",
    "from sklearn.model_selection import GridSearchCV"
   ]
  },
  {
   "cell_type": "code",
   "execution_count": 28,
   "metadata": {},
   "outputs": [
    {
     "data": {
      "text/plain": [
       "<matplotlib.axes._subplots.AxesSubplot at 0x1b249dd5940>"
      ]
     },
     "execution_count": 28,
     "metadata": {},
     "output_type": "execute_result"
    },
    {
     "data": {
      "image/png": "[encoded data removed]",
      "text/plain": [
       "<Figure size 792x648 with 2 Axes>"
      ]
     },
     "metadata": {
      "needs_background": "light"
     },
     "output_type": "display_data"
    }
   ],
   "source": [
    "# Plotting the heatmap of correlation between features\n",
    "f, ax = plt.subplots(figsize=(11, 9))\n",
    "cmap = sns.diverging_palette(220, 10, as_cmap=True)\n",
    "mask = np.zeros_like(corr, dtype=np.bool)\n",
    "mask[np.triu_indices_from(mask)] = True\n",
    "sns.heatmap(corr, mask=mask, cmap='Blues', vmax=1, center=0, square=True, linewidths=1, cbar_kws={\"shrink\": 1})"
   ]
  }
 ],
 "metadata": {
  "kernelspec": {
   "display_name": "Python 3",
   "language": "python",
   "name": "python3"
  },
  "language_info": {
   "codemirror_mode": {
    "name": "ipython",
    "version": 3
   },
   "file_extension": ".py",
   "mimetype": "text/x-python",
   "name": "python",
   "nbconvert_exporter": "python",
   "pygments_lexer": "ipython3",
   "version": "3.7.3"
  }
 },
 "nbformat": 4,
 "nbformat_minor": 2
}

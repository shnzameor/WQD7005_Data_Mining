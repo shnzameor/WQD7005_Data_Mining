{
 "cells": [
  {
   "cell_type": "code",
   "execution_count": null,
   "metadata": {},
   "outputs": [],
   "source": [
    "#code Accessing Data from Apache Hive\n",
    "\n",
    "import os\n",
    "import pandas\n",
    "from impala.dbapi import connect\n",
    "from impala.util import as_pandas\n",
    "\n",
    "# Specify HIVE_HMS_HOST as an environment variable in your project settings\n",
    "HIVE_HMS_HOST = os.getenv('HIVE_HS2_HOST', '<hiveserver2_hostname>')\n",
    "\n",
    "# This connection string depends on your cluster setup and authentication mechanism\n",
    "conn = connect(host=HIVE_HS2_HOST,\n",
    "               port='10000',\n",
    "               auth_mechanism='GSSAPI',\n",
    "               kerberos_service_name='hive')\n",
    "cursor = conn.cursor()\n",
    "cursor.execute('SHOW TABLES')\n",
    "tables = as_pandas(cursor)\n",
    "tables"
   ]
  }
 ],
 "metadata": {
  "kernelspec": {
   "display_name": "Python 3",
   "language": "python",
   "name": "python3"
  },
  "language_info": {
   "codemirror_mode": {
    "name": "ipython",
    "version": 3
   },
   "file_extension": ".py",
   "mimetype": "text/x-python",
   "name": "python",
   "nbconvert_exporter": "python",
   "pygments_lexer": "ipython3",
   "version": "3.7.3"
  }
 },
 "nbformat": 4,
 "nbformat_minor": 2
}
